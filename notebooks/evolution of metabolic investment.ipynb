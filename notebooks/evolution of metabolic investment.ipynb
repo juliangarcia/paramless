{
 "metadata": {
  "name": "evolution of metabolic investment"
 },
 "nbformat": 3,
 "nbformat_minor": 0,
 "worksheets": [
  {
   "cells": [
    {
     "cell_type": "code",
     "collapsed": false,
     "input": [
      "%pylab inline\n",
      "%run ../paramless.py\n",
      "from scipy.integrate import simps"
     ],
     "language": "python",
     "metadata": {},
     "outputs": [
      {
       "output_type": "stream",
       "stream": "stdout",
       "text": [
        "\n",
        "Welcome to pylab, a matplotlib-based Python environment [backend: module://IPython.zmq.pylab.backend_inline].\n",
        "For more information, type 'help(pylab)'.\n"
       ]
      }
     ],
     "prompt_number": 50
    },
    {
     "cell_type": "markdown",
     "metadata": {},
     "source": [
      "#Evolution of metabolic investment strategies"
     ]
    },
    {
     "cell_type": "markdown",
     "metadata": {},
     "source": [
      "Here I test the function simulation framework with the example of section 6  in Dieckmann et al. JTB (2006)"
     ]
    },
    {
     "cell_type": "markdown",
     "metadata": {},
     "source": [
      "We will evolve a function $x(a)$, where $a \\in \\[0,1\\]$ (s.t $x(a) > 0 \\forall a$ )"
     ]
    },
    {
     "cell_type": "markdown",
     "metadata": {},
     "source": [
      "We start by defining a mutation that **does not** allow negative values. "
     ]
    },
    {
     "cell_type": "code",
     "collapsed": false,
     "input": [
      "domain = np.arange(0.001, 1.0, 0.01)"
     ],
     "language": "python",
     "metadata": {},
     "outputs": [],
     "prompt_number": 37
    },
    {
     "cell_type": "code",
     "collapsed": false,
     "input": [
      "def point_mutation_positive(vector, mutation_epsilon, **kwargs):\n",
      "    mutant = np.copy(vector)\n",
      "    position = np.random.randint(len(vector))\n",
      "    if (np.random.randint(2)):\n",
      "        mutant[position] = mutant[position] + mutation_epsilon\n",
      "    else:\n",
      "        mutant[position] = mutant[position] - mutation_epsilon\n",
      "    if mutant[position] < 0.0:\n",
      "        mutant[position]=0.0\n",
      "    return mutant"
     ],
     "language": "python",
     "metadata": {},
     "outputs": [],
     "prompt_number": 38
    },
    {
     "cell_type": "markdown",
     "metadata": {},
     "source": [
      "The energy is defined as $E(x) = \\int x(a) da$, which for simulation purposes we will compute using simpson's."
     ]
    },
    {
     "cell_type": "code",
     "collapsed": false,
     "input": [
      "def energy(surface, domain):\n",
      "    return simps(surface, domain)"
     ],
     "language": "python",
     "metadata": {},
     "outputs": [],
     "prompt_number": 39
    },
    {
     "cell_type": "markdown",
     "metadata": {},
     "source": [
      "In the example in the paper, the resource desinty is given by $r(a) = 4a(1-a)$"
     ]
    },
    {
     "cell_type": "code",
     "collapsed": false,
     "input": [
      "def resource_density(a):\n",
      "    return 4.0*(1.0-a)"
     ],
     "language": "python",
     "metadata": {},
     "outputs": [],
     "prompt_number": 40
    },
    {
     "cell_type": "markdown",
     "metadata": {},
     "source": [
      "Metabolic efficiency is defined as $e(a, x(a)) = \\frac{x(a)}{x(a)+a}$. Then, the **total intake of resources** is given by $G(x) = \\int r(a)e(a, (a)) da$"
     ]
    },
    {
     "cell_type": "code",
     "collapsed": false,
     "input": [
      "def total_intake(surface, domain):\n",
      "    #create a list of pairs x(a), a for a in domain\n",
      "    tuples_surface_domain = zip(surface,domain)\n",
      "    #r(a)*(x(a)/x(a)+a) for all a in domain\n",
      "    integrand = [resource_density(surface_domain[1])*(surface_domain[0]/(surface_domain[0]+surface_domain[1])) for surface_domain in tuples_surface_domain]\n",
      "    #integrate over domain\n",
      "    return simps(integrand, domain)"
     ],
     "language": "python",
     "metadata": {},
     "outputs": [],
     "prompt_number": 47
    },
    {
     "cell_type": "markdown",
     "metadata": {},
     "source": [
      "With the total intake and the energy we are ready to compute fitness."
     ]
    },
    {
     "cell_type": "code",
     "collapsed": false,
     "input": [
      "def metabolic_fitness(resident, mutant, c, domain,**kwargs):\n",
      "    fitness_resident = total_intake(resident, domain) - c*energy(resident, domain)\n",
      "    fitness_mutant = total_intake(mutant, domain) - c*energy(mutant, domain)\n",
      "    return fitness_resident, fitness_mutant"
     ],
     "language": "python",
     "metadata": {},
     "outputs": [],
     "prompt_number": 48
    },
    {
     "cell_type": "code",
     "collapsed": false,
     "input": [
      "initial_surface = np.zeros_like(domain)\n",
      "ans, series = evolve(initial_surface=initial_surface, fitness_function=metabolic_fitness, mutation_function=point_mutation_positive, iterations=1000000, return_time_series=True, seed=777, c= 0.5, domain=domain, atol=1e-12, mutation_epsilon=0.01)"
     ],
     "language": "python",
     "metadata": {},
     "outputs": [],
     "prompt_number": 52
    },
    {
     "cell_type": "code",
     "collapsed": false,
     "input": [
      "plot(domain, ans)"
     ],
     "language": "python",
     "metadata": {},
     "outputs": [
      {
       "output_type": "pyout",
       "prompt_number": 53,
       "text": [
        "[<matplotlib.lines.Line2D at 0x108a8b1d0>]"
       ]
      },
      {
       "output_type": "display_data",
       "png": "[encoded data removed]"
      }
     ],
     "prompt_number": 53
    },
    {
     "cell_type": "code",
     "collapsed": false,
     "input": [
      "def prediction_investment(a):\n",
      "    if resource_density(a) > 0.5*a:\n",
      "        return math.sqrt(2.0*a*resource_density(a))\n",
      "    return 0.0 "
     ],
     "language": "python",
     "metadata": {},
     "outputs": [],
     "prompt_number": 71
    },
    {
     "cell_type": "code",
     "collapsed": false,
     "input": [
      "target = [prediction_investment(a) for a in domain]"
     ],
     "language": "python",
     "metadata": {},
     "outputs": [],
     "prompt_number": 73
    },
    {
     "cell_type": "code",
     "collapsed": false,
     "input": [
      "create_video_from_time_series(series, target, domain, filename='/Users/garcia/Desktop/metabolic.mp4', approximate_number_of_frames=100, record_every=100)"
     ],
     "language": "python",
     "metadata": {},
     "outputs": [
      {
       "output_type": "display_data",
       "png": "[encoded data removed]"
      }
     ],
     "prompt_number": 74
    },
    {
     "cell_type": "code",
     "collapsed": false,
     "input": [
      "expanded = _expand_compact_time_series(series, record_every=100)"
     ],
     "language": "python",
     "metadata": {},
     "outputs": [],
     "prompt_number": 60
    },
    {
     "cell_type": "code",
     "collapsed": false,
     "input": [
      "time_series_keys = expanded.keys()"
     ],
     "language": "python",
     "metadata": {},
     "outputs": [],
     "prompt_number": 61
    },
    {
     "cell_type": "code",
     "collapsed": false,
     "input": [
      "len(time_series_keys)"
     ],
     "language": "python",
     "metadata": {},
     "outputs": [
      {
       "output_type": "pyout",
       "prompt_number": 66,
       "text": [
        "237"
       ]
      }
     ],
     "prompt_number": 66
    },
    {
     "cell_type": "code",
     "collapsed": false,
     "input": [
      "237/100"
     ],
     "language": "python",
     "metadata": {},
     "outputs": [
      {
       "output_type": "pyout",
       "prompt_number": 68,
       "text": [
        "2"
       ]
      }
     ],
     "prompt_number": 68
    },
    {
     "cell_type": "code",
     "collapsed": false,
     "input": [],
     "language": "python",
     "metadata": {},
     "outputs": []
    }
   ],
   "metadata": {}
  }
 ]
}